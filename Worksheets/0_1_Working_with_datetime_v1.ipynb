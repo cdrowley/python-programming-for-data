{
  "cells": [
    {
      "cell_type": "markdown",
      "metadata": {
        "colab_type": "text",
        "id": "view-in-github"
      },
      "source": [
        "<a href=\"https://colab.research.google.com/github/futureCodersSE/python-programming-for-data/blob/main/Worksheets/0_1_Working_with_datetime_v1.ipynb\" target=\"_parent\"><img src=\"https://colab.research.google.com/assets/colab-badge.svg\" alt=\"Open In Colab\"/></a>"
      ]
    },
    {
      "cell_type": "markdown",
      "metadata": {
        "id": "7iQyKP-SQiw1"
      },
      "source": [
        "# User-defined functions using datetime library\n",
        "\n",
        "---\n"
      ]
    },
    {
      "cell_type": "markdown",
      "metadata": {
        "id": "Vi93h5I4QnKs"
      },
      "source": [
        "When working with dates and times, fairly common in data sets, we need to be able to extract certain bits of information.  \n",
        "\n",
        "In Python, as with other languages, dates and times are stored in a data structure that combines the two together and stores the information as a number of seconds since a start point (often 1st January 1900).  This is obviously a large number but every bit of information about a date can be extracted from it and used to give a wide range of information.  \n",
        "\n",
        "Have a go at the exercises below to use a selection of datetime functions and return a new bit of data from each, to be printed by the caller.\n",
        "\n",
        "Before you can use datetime functions you will need to import them. Import the datetime functions like this:\n",
        "\n",
        "`from datetime import datetime`  \n",
        "\n",
        "\n",
        "For more information about datetime functions visit [w3Schools-Python datetime](https://www.w3schools.com/python/python_datetime.asp) and [Python docs](https://docs.python.org/3/library/datetime.html)"
      ]
    },
    {
      "cell_type": "markdown",
      "metadata": {
        "id": "MIDLi7CNR034"
      },
      "source": [
        "---\n",
        "### Exercise 1 - getting the current date and time\n",
        "\n",
        "Write a function called **get_datetime_now()** that will `return` the date and time now. \n",
        "\n",
        "*Hint:  the format has been added for you, the other exercises will follow a similar format.   Always remember to import datetime from datetime as shown below*"
      ]
    },
    {
      "cell_type": "code",
      "execution_count": 67,
      "metadata": {
        "id": "gS6GJdXbQfHp"
      },
      "outputs": [
        {
          "name": "stdout",
          "output_type": "stream",
          "text": [
            "Test passed 2022-02-22\n"
          ]
        }
      ],
      "source": [
        "from datetime import datetime, timezone\n",
        "\n",
        "def get_datetime_now():\n",
        "  return datetime.now(timezone.utc)\n",
        "\n",
        "\n",
        "# This code will run and test if current date is being returned\n",
        "actual = get_datetime_now().strftime('%Y-%m-%d')\n",
        "expected = datetime.now(timezone.utc).strftime('%Y-%m-%d')\n",
        "\n",
        "if actual == expected:\n",
        "  print(\"Test passed\", actual)\n",
        "else:\n",
        "  print(\"Test failed expected\", expected, \"got\", actual)"
      ]
    },
    {
      "cell_type": "markdown",
      "metadata": {
        "id": "Yy24sL0bUtpF"
      },
      "source": [
        "\n",
        "###Exercise 2 - getting the current year\n",
        "---\n",
        "\n",
        "Write a function called **get_current_year()** that will `return` the current year. "
      ]
    },
    {
      "cell_type": "code",
      "execution_count": 68,
      "metadata": {
        "id": "YqlQqPIqUtyr"
      },
      "outputs": [
        {
          "name": "stdout",
          "output_type": "stream",
          "text": [
            "Test passed 2022\n"
          ]
        }
      ],
      "source": [
        "def get_current_year():\n",
        "  return str(get_datetime_now().year)\n",
        "\n",
        "\n",
        "# This code will run the function and test whether the current year is being returned \n",
        "actual = get_current_year()\n",
        "expected = datetime.now(timezone.utc).strftime('%Y')\n",
        "\n",
        "if actual == expected:\n",
        "  print(\"Test passed\", actual)\n",
        "else:\n",
        "  print(\"Test failed expected\", expected, \"got\", actual)"
      ]
    },
    {
      "cell_type": "markdown",
      "metadata": {
        "id": "FzSVCaJKV1O1"
      },
      "source": [
        "---\n",
        "### Exercise 3 - print the current day of the week\n",
        "\n",
        "Write a function called **get_current_day()** that will `return` the current day of the week."
      ]
    },
    {
      "cell_type": "code",
      "execution_count": 69,
      "metadata": {
        "id": "OP4ZIXBWV1Yj"
      },
      "outputs": [
        {
          "name": "stdout",
          "output_type": "stream",
          "text": [
            "Test passed Tuesday\n"
          ]
        }
      ],
      "source": [
        "def get_current_day():\n",
        "  return get_datetime_now().strftime('%A')\n",
        "\n",
        "\n",
        "# run and test to see if current day is being returned\n",
        "\n",
        "actual = get_current_day()\n",
        "expected = datetime.now(timezone.utc).strftime('%A')\n",
        "\n",
        "\n",
        "if actual == expected:\n",
        "  print(\"Test passed\", actual)\n",
        "else:\n",
        "  print(\"Test failed expected\", expected, \"got\", actual)"
      ]
    },
    {
      "cell_type": "markdown",
      "metadata": {
        "id": "a8euCtdmWIDE"
      },
      "source": [
        "---\n",
        "### Exercise 4 - create a new date\n",
        "\n",
        "Write a function called **create_new_date()** that will take 3 parameters, year, month, day (3 numbers that make a valid date) and will create, and `return` a new date. "
      ]
    },
    {
      "cell_type": "code",
      "execution_count": 70,
      "metadata": {
        "id": "FbOFnTwnWILN"
      },
      "outputs": [
        {
          "name": "stdout",
          "output_type": "stream",
          "text": [
            "Test passed\n"
          ]
        }
      ],
      "source": [
        "def create_new_date(year, month, day):\n",
        "  return datetime(year, month, day)\n",
        "   \n",
        "\n",
        "# run and test if returned date is in datetime format\n",
        "\n",
        "if isinstance(create_new_date(2021, 12, 12), datetime) == True:\n",
        "  print(\"Test passed\")\n",
        "else:\n",
        "  print(\"Test failed, expected datetime object\")"
      ]
    },
    {
      "cell_type": "markdown",
      "metadata": {
        "id": "f5SKVuE0WfcE"
      },
      "source": [
        "---\n",
        "### Exercise 5 - create a valid date\n",
        "\n",
        "Write a function called **create_valid_date():** that will take 3 parameters, year, month, day (3 numbers) and will:  \n",
        "*   check that the month is between 1 and 12  \n",
        "*   check that the day is valid for the month (e.g. if the month is 2, then the day must be between 1 and 28 (don't worry about leap years for the moment)  \n",
        "*   if the date is not valid, print an error message and `return` None \n",
        "*   if the date is valid, store it in a new variable, `return` the variable "
      ]
    },
    {
      "cell_type": "code",
      "execution_count": 71,
      "metadata": {
        "colab": {
          "base_uri": "https://localhost:8080/"
        },
        "id": "gclt-f9-XfdG",
        "outputId": "0bf34ae3-2ed7-4b4a-be41-c87bdf9a520c"
      },
      "outputs": [
        {
          "name": "stdout",
          "output_type": "stream",
          "text": [
            "Test 1 passed, expected None got None\n",
            "Test 1 passed, expected None got None\n",
            "Test 1 passed, expected datetime object got datetime object\n"
          ]
        }
      ],
      "source": [
        "from datetime import datetime\n",
        "\n",
        "\n",
        "def create_valid_date(year, month, day):\n",
        "  try:\n",
        "    return datetime(year, month, day)\n",
        "  except ValueError:\n",
        "    return None\n",
        "\n",
        "\n",
        "# run and test if your code is correctly validating dates\n",
        "# actual = create_valid_date()\n",
        "if create_valid_date(2021, 14, 12) == None:\n",
        "  print('Test 1 passed, expected None got None')\n",
        "else:\n",
        "  print(\"Test 1 failed expected None got\", create_valid_date(2021, 14, 12))\n",
        "\n",
        "if create_valid_date(2021, 2, 31) == None:\n",
        "  print('Test 1 passed, expected None got None')\n",
        "else:\n",
        "  print(\"Test 1 failed expected None got\", create_valid_date(2021, 2, 31))\n",
        "\n",
        "if isinstance(create_valid_date(2021, 7, 31), datetime) == True:\n",
        "  print('Test 1 passed, expected datetime object got datetime object')\n",
        "else:\n",
        "  print(\"Test 1 failed expected datetime object got\", create_valid_date(2021, 7 , 31))\n"
      ]
    },
    {
      "cell_type": "markdown",
      "metadata": {
        "id": "js7fy2HWXfm2"
      },
      "source": [
        "---\n",
        "### Exercise 6 - is it a leap year?\n",
        "\n",
        "Write a function called **is_leap_year()** that will take a date as a single tuple as a parameter and will determine if it is a leap year and `return` True or False.\n",
        "\n",
        "*Hint:  a leap year is a year that is divisible by 4 but the centuries (1900, 2000, etc are only leap years if they are divisible by 400)*"
      ]
    },
    {
      "cell_type": "code",
      "execution_count": 72,
      "metadata": {
        "id": "KY1jtf3lX_ps"
      },
      "outputs": [
        {
          "name": "stdout",
          "output_type": "stream",
          "text": [
            "Test 1 passed expected True got True\n",
            "Test 2 passed expected True got True\n",
            "Test 2 passed expected False got False\n",
            "Test 2 passed expected False got False\n"
          ]
        }
      ],
      "source": [
        "def is_leap_year(date_to_check):\n",
        "  yy, mm, dd = date_to_check\n",
        "  date_to_check = create_new_date(yy, mm, dd)\n",
        "  return date_to_check.year % 4 == 0 and (date_to_check.year % 100 != 0 or date_to_check.year % 400 == 0)\n",
        "  \n",
        "\n",
        "\n",
        "# run code below to test if your function is correctly identifying leap years \n",
        "if is_leap_year((1996, 12, 15)) == True:\n",
        "  print(\"Test 1 passed expected True got\", is_leap_year((1996, 12, 15)))\n",
        "else:\n",
        "  print(\"Test failed expected True got\", is_leap_year((1996, 12, 15)))\n",
        "\n",
        "if is_leap_year((2020, 1, 2)) == True:\n",
        "  print(\"Test 2 passed expected True got\", is_leap_year((2020, 1, 2)))\n",
        "else:\n",
        "  print(\"Test failed expected True got\", is_leap_year((2020, 1, 2)))\n",
        "\n",
        "if is_leap_year((2021, 11, 17)) == False:\n",
        "  print(\"Test 2 passed expected False got\", is_leap_year((2021, 11, 17)))\n",
        "else:\n",
        "  print(\"Test failed expected False got\", is_leap_year((2021, 11, 17)))\n",
        "\n",
        "if is_leap_year((1900, 3, 1)) == False:\n",
        "  print(\"Test 2 passed expected False got\", is_leap_year((1900, 3, 1)))\n",
        "else:\n",
        "  print(\"Test failed expected False got\", is_leap_year((1900, 3, 1)))"
      ]
    },
    {
      "cell_type": "markdown",
      "metadata": {
        "id": "9BuRDi08YAO0"
      },
      "source": [
        "---\n",
        "### Exercise 7 - display parts of date/time\n",
        "\n",
        "Write a function called **get_datetime_parts()** that will take a date and `return` the following:  \n",
        "*  given date and time  \n",
        "*  year (in full) \n",
        "*  month (as a number) \n",
        "*  month name \n",
        "*  week number of the year  \n",
        "*  weekday of the week (as a number)  \n",
        "*  number day of year  \n",
        "*  number day of the month  \n",
        "*  weekday (as a name)  \n",
        "\n",
        "*Hint:  see w3Schools for [strftime reference](https://www.w3schools.com/python/python_datetime.asp)*\n",
        "\n"
      ]
    },
    {
      "cell_type": "code",
      "execution_count": 73,
      "metadata": {
        "id": "zl-37Ez9ahym"
      },
      "outputs": [
        {
          "name": "stdout",
          "output_type": "stream",
          "text": [
            "Test passed (datetime.datetime(1997, 6, 2, 0, 0), '1997', '06', 'June', '22', '1', '153', '02', 'Monday')\n"
          ]
        }
      ],
      "source": [
        "def get_datetime_parts(year, month, day):\n",
        "  given_date = create_valid_date(year, month, day)\n",
        "  \n",
        "  year = given_date.strftime('%Y')\n",
        "\n",
        "  num_month = given_date.strftime('%m')\n",
        "  str_month = given_date.strftime('%B')\n",
        "\n",
        "  week_num = given_date.strftime('%U')\n",
        "  weekday_num = given_date.strftime('%w')\n",
        "\n",
        "  day_of_year = given_date.strftime('%j')\n",
        "  day_of_month = given_date.strftime('%d')\n",
        "  weekday = given_date.strftime('%A')\n",
        "\n",
        "  return given_date , year, num_month, str_month, week_num, weekday_num, day_of_year, day_of_month, weekday\n",
        "\n",
        "\n",
        "\n",
        "# Run test below to check answers for date 1997/06/02\n",
        "actual = get_datetime_parts(1997, 6, 2)\n",
        "# expected = (datetime(1997, 6, 2, 0, 0), '1997','06','June','22', '1','153','06','Monday') # error?\n",
        "expected = (datetime(1997, 6, 2, 0, 0), '1997','06','June','22', '1','153','02','Monday')\n",
        "\n",
        "if actual == expected:\n",
        "  print(\"Test passed\", actual)\n",
        "else:\n",
        "  print(\"Test failed expected\", expected, \"got\", actual)"
      ]
    },
    {
      "cell_type": "markdown",
      "metadata": {
        "id": "_rpTIoSDaiBj"
      },
      "source": [
        "---\n",
        "### Exercise 8 - next 6 days\n",
        "\n",
        "Write a function called **get_next_six()** that will take a date and generate the dates of the following 6 days.  It should `append` each of the 6 days to a list and `return` the list:\n",
        "\n",
        "The days should be in the form:\n",
        "\n",
        "NUMBER DAY OF THE WEEK, MONTH NAME, FULL YEAR\n",
        "\n",
        "Hint:  to generate the days, use the function datetime.timedelta(), there is a good example of its use [here](https://www.geeksforgeeks.org/python-datetime-timedelta-function/)  "
      ]
    },
    {
      "cell_type": "code",
      "execution_count": 74,
      "metadata": {
        "id": "1d-oXqLLb0vX"
      },
      "outputs": [
        {
          "name": "stdout",
          "output_type": "stream",
          "text": [
            "Test passed ['01, August, 2021', '02, August, 2021', '03, August, 2021', '04, August, 2021', '05, August, 2021', '06, August, 2021']\n"
          ]
        }
      ],
      "source": [
        "from datetime import timedelta\n",
        "\n",
        "def get_next_six(year, month, day):\n",
        "  # add code to return a list of the dates of the following 6 days  \n",
        "  given_date = create_valid_date(year, month, day)\n",
        "  return [(given_date + timedelta(days=i)).strftime('%d, %B, %Y') for i in range(1, 7)]\n",
        "\n",
        "\n",
        "# run and test if 6 correct dates are generated \n",
        "actual = get_next_six(2021, 7, 31)\n",
        "expected = ['01, August, 2021', '02, August, 2021', '03, August, 2021', '04, August, 2021', '05, August, 2021', '06, August, 2021']\n",
        "\n",
        "if actual == expected:\n",
        "  print(\"Test passed\", actual)\n",
        "else:\n",
        "  print(\"Test failed expected\", expected, \"got\", actual)"
      ]
    }
  ],
  "metadata": {
    "colab": {
      "collapsed_sections": [],
      "include_colab_link": true,
      "name": "0.1 Working with datetime_v1.ipynb",
      "provenance": []
    },
    "kernelspec": {
      "display_name": "Python 3",
      "name": "python3"
    },
    "language_info": {
      "codemirror_mode": {
        "name": "ipython",
        "version": 3
      },
      "file_extension": ".py",
      "mimetype": "text/x-python",
      "name": "python",
      "nbconvert_exporter": "python",
      "pygments_lexer": "ipython3",
      "version": "3.8.10"
    }
  },
  "nbformat": 4,
  "nbformat_minor": 0
}
